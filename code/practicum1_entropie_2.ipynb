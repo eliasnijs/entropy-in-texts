{
 "cells": [
  {
   "cell_type": "code",
   "execution_count": 4,
   "metadata": {},
   "outputs": [],
   "source": [
    "import numpy as np"
   ]
  },
  {
   "cell_type": "code",
   "execution_count": 12,
   "metadata": {},
   "outputs": [],
   "source": [
    "text = \"aaaabbbccccc\"\n",
    "length = len(text)"
   ]
  },
  {
   "cell_type": "code",
   "execution_count": 15,
   "metadata": {},
   "outputs": [
    {
     "data": {
      "text/plain": [
       "1.5545851693377997"
      ]
     },
     "execution_count": 15,
     "metadata": {},
     "output_type": "execute_result"
    }
   ],
   "source": [
    "def get_entropy(data:list):\n",
    "    letters, counts = np.unique(data, return_counts=True)\n",
    "    prob = counts/sum(counts)\n",
    "    return -np.sum(prob*np.log2(prob))\n",
    "\n",
    "get_entropy(list(text))"
   ]
  },
  {
   "cell_type": "code",
   "execution_count": 16,
   "metadata": {},
   "outputs": [
    {
     "name": "stdout",
     "output_type": "stream",
     "text": [
      "1 1.5545851693377997\n",
      "2 0.5454545454545455\n",
      "3 0.47548875021634684\n",
      "4 0.2222222222222222\n",
      "5 -0.0\n"
     ]
    }
   ],
   "source": [
    "def get_entropy(data:list, memory=0):\n",
    "    ws, cnt_ws = np.unique(np.lib.stride_tricks.sliding_window_view(list(text), memory + 1, axis=0), return_counts=True, axis=0)\n",
    "    probs_ws = cnt_ws / np.sum(cnt_ws)\n",
    "\n",
    "    wsb, cnt_wsb = np.unique(np.lib.stride_tricks.sliding_window_view(list(text[:-1]), memory, axis=0), return_counts=True, axis=0)\n",
    "    probs_wsb = cnt_wsb / sum(cnt_ws)\n",
    "\n",
    "    probs_wsa = np.zeros(len(ws))\n",
    "    for i, (w, p) in enumerate(zip(ws, probs_ws)):\n",
    "        probs_wsa[i] = p/probs_wsb[np.where(np.all(wsb == w[:memory],axis=1))]\n",
    "    \n",
    "    return -np.sum(probs_ws*np.log2(probs_wsa))\n",
    "\n",
    "e = 1\n",
    "i = 0\n",
    "while e != 0.0:\n",
    "    e = get_entropy(list(text),i)\n",
    "    i = i + 1\n",
    "    print(i, e)\n"
   ]
  },
  {
   "cell_type": "code",
   "execution_count": null,
   "metadata": {},
   "outputs": [],
   "source": []
  }
 ],
 "metadata": {
  "kernelspec": {
   "display_name": "Python 3.10.2 64-bit",
   "language": "python",
   "name": "python3"
  },
  "language_info": {
   "codemirror_mode": {
    "name": "ipython",
    "version": 3
   },
   "file_extension": ".py",
   "mimetype": "text/x-python",
   "name": "python",
   "nbconvert_exporter": "python",
   "pygments_lexer": "ipython3",
   "version": "3.10.2"
  },
  "orig_nbformat": 4,
  "vscode": {
   "interpreter": {
    "hash": "3fc63de107a3995f66d33859f380f73bd26ac40da4b187ce627a4472b1acbfe0"
   }
  }
 },
 "nbformat": 4,
 "nbformat_minor": 2
}
